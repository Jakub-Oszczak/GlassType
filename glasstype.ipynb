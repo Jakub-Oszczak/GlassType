{
 "cells": [
  {
   "cell_type": "code",
   "execution_count": 3,
   "metadata": {},
   "outputs": [
    {
     "name": "stdout",
     "output_type": "stream",
     "text": [
      "Requirement already satisfied: ucimlrepo in c:\\users\\kuba\\appdata\\local\\programs\\python\\python311\\lib\\site-packages (0.0.1)\n"
     ]
    },
    {
     "name": "stderr",
     "output_type": "stream",
     "text": [
      "\n",
      "[notice] A new release of pip is available: 23.1.2 -> 23.2.1\n",
      "[notice] To update, run: python.exe -m pip install --upgrade pip\n"
     ]
    }
   ],
   "source": [
    "!pip3 install ucimlrepo"
   ]
  },
  {
   "cell_type": "code",
   "execution_count": null,
   "metadata": {},
   "outputs": [],
   "source": []
  },
  {
   "cell_type": "code",
   "execution_count": 4,
   "metadata": {},
   "outputs": [
    {
     "ename": "TypeError",
     "evalue": "'NoneType' object is not iterable",
     "output_type": "error",
     "traceback": [
      "\u001b[1;31m---------------------------------------------------------------------------\u001b[0m",
      "\u001b[1;31mTypeError\u001b[0m                                 Traceback (most recent call last)",
      "\u001b[1;32md:\\VScodeProjects\\GlassType\\glasstype.ipynb Cell 2\u001b[0m line \u001b[0;36m4\n\u001b[0;32m      <a href='vscode-notebook-cell:/d%3A/VScodeProjects/GlassType/glasstype.ipynb#W2sZmlsZQ%3D%3D?line=0'>1</a>\u001b[0m \u001b[39mfrom\u001b[39;00m \u001b[39mucimlrepo\u001b[39;00m \u001b[39mimport\u001b[39;00m fetch_ucirepo \n\u001b[0;32m      <a href='vscode-notebook-cell:/d%3A/VScodeProjects/GlassType/glasstype.ipynb#W2sZmlsZQ%3D%3D?line=2'>3</a>\u001b[0m \u001b[39m# fetch dataset \u001b[39;00m\n\u001b[1;32m----> <a href='vscode-notebook-cell:/d%3A/VScodeProjects/GlassType/glasstype.ipynb#W2sZmlsZQ%3D%3D?line=3'>4</a>\u001b[0m glass_identification \u001b[39m=\u001b[39m fetch_ucirepo(\u001b[39mid\u001b[39;49m\u001b[39m=\u001b[39;49m\u001b[39m42\u001b[39;49m) \n\u001b[0;32m      <a href='vscode-notebook-cell:/d%3A/VScodeProjects/GlassType/glasstype.ipynb#W2sZmlsZQ%3D%3D?line=5'>6</a>\u001b[0m \u001b[39m# data (as pandas dataframes) \u001b[39;00m\n\u001b[0;32m      <a href='vscode-notebook-cell:/d%3A/VScodeProjects/GlassType/glasstype.ipynb#W2sZmlsZQ%3D%3D?line=6'>7</a>\u001b[0m X \u001b[39m=\u001b[39m glass_identification\u001b[39m.\u001b[39mdata\u001b[39m.\u001b[39mfeatures \n",
      "File \u001b[1;32mc:\\Users\\Kuba\\AppData\\Local\\Programs\\Python\\Python311\\Lib\\site-packages\\ucimlrepo\\fetch.py:148\u001b[0m, in \u001b[0;36mfetch_ucirepo\u001b[1;34m(name, id)\u001b[0m\n\u001b[0;32m    142\u001b[0m \u001b[39m# alternative usage?: \u001b[39;00m\n\u001b[0;32m    143\u001b[0m \u001b[39m# variables.age.role or variables.slope.description\u001b[39;00m\n\u001b[0;32m    144\u001b[0m \u001b[39m# print(variables) -> json-like dict with keys [name] -> details\u001b[39;00m\n\u001b[0;32m    145\u001b[0m \n\u001b[0;32m    146\u001b[0m \u001b[39m# make nested metadata fields accessible via dot notation\u001b[39;00m\n\u001b[0;32m    147\u001b[0m metadata[\u001b[39m'\u001b[39m\u001b[39madditional_info\u001b[39m\u001b[39m'\u001b[39m] \u001b[39m=\u001b[39m dotdict(metadata[\u001b[39m'\u001b[39m\u001b[39madditional_info\u001b[39m\u001b[39m'\u001b[39m])\n\u001b[1;32m--> 148\u001b[0m metadata[\u001b[39m'\u001b[39m\u001b[39mintro_paper\u001b[39m\u001b[39m'\u001b[39m] \u001b[39m=\u001b[39m dotdict(metadata[\u001b[39m'\u001b[39;49m\u001b[39mintro_paper\u001b[39;49m\u001b[39m'\u001b[39;49m])\n\u001b[0;32m    150\u001b[0m \u001b[39m# construct result object\u001b[39;00m\n\u001b[0;32m    151\u001b[0m result \u001b[39m=\u001b[39m {\n\u001b[0;32m    152\u001b[0m     \u001b[39m'\u001b[39m\u001b[39mdata\u001b[39m\u001b[39m'\u001b[39m: dotdict(data),\n\u001b[0;32m    153\u001b[0m     \u001b[39m'\u001b[39m\u001b[39mmetadata\u001b[39m\u001b[39m'\u001b[39m: dotdict(metadata),\n\u001b[0;32m    154\u001b[0m     \u001b[39m'\u001b[39m\u001b[39mvariables\u001b[39m\u001b[39m'\u001b[39m: variables\n\u001b[0;32m    155\u001b[0m }\n",
      "\u001b[1;31mTypeError\u001b[0m: 'NoneType' object is not iterable"
     ]
    }
   ],
   "source": [
    "from ucimlrepo import fetch_ucirepo \n",
    "  \n",
    "# fetch dataset \n",
    "glass_identification = fetch_ucirepo(id=42) \n",
    "  \n",
    "# data (as pandas dataframes) \n",
    "X = glass_identification.data.features \n",
    "y = glass_identification.data.targets \n",
    "  \n",
    "# metadata \n",
    "print(glass_identification.metadata) \n",
    "  \n",
    "# variable information \n",
    "print(glass_identification.variables) \n"
   ]
  },
  {
   "cell_type": "code",
   "execution_count": 2,
   "metadata": {},
   "outputs": [
    {
     "name": "stdout",
     "output_type": "stream",
     "text": [
      "       1  1.52101  13.64  4.49  1.10  71.78  0.06  8.75  0.00  0.00.1  1.1\n",
      "0      2  1.51761  13.89  3.60  1.36  72.73  0.48  7.83  0.00    0.00    1\n",
      "1      3  1.51618  13.53  3.55  1.54  72.99  0.39  7.78  0.00    0.00    1\n",
      "2      4  1.51766  13.21  3.69  1.29  72.61  0.57  8.22  0.00    0.00    1\n",
      "3      5  1.51742  13.27  3.62  1.24  73.08  0.55  8.07  0.00    0.00    1\n",
      "4      6  1.51596  12.79  3.61  1.62  72.97  0.64  8.07  0.00    0.26    1\n",
      "..   ...      ...    ...   ...   ...    ...   ...   ...   ...     ...  ...\n",
      "208  210  1.51623  14.14  0.00  2.88  72.61  0.08  9.18  1.06    0.00    7\n",
      "209  211  1.51685  14.92  0.00  1.99  73.06  0.00  8.40  1.59    0.00    7\n",
      "210  212  1.52065  14.36  0.00  2.02  73.42  0.00  8.44  1.64    0.00    7\n",
      "211  213  1.51651  14.38  0.00  1.94  73.61  0.00  8.48  1.57    0.00    7\n",
      "212  214  1.51711  14.23  0.00  2.08  73.36  0.00  8.62  1.67    0.00    7\n",
      "\n",
      "[213 rows x 11 columns]\n"
     ]
    }
   ],
   "source": [
    "import pandas as pd\n",
    "\n",
    "data =  pd.read_csv('D:\\VScodeProjects\\GlassType\\Data\\glass.data', sep=\",\")\n",
    "print(data)"
   ]
  }
 ],
 "metadata": {
  "kernelspec": {
   "display_name": "Python 3",
   "language": "python",
   "name": "python3"
  },
  "language_info": {
   "codemirror_mode": {
    "name": "ipython",
    "version": 3
   },
   "file_extension": ".py",
   "mimetype": "text/x-python",
   "name": "python",
   "nbconvert_exporter": "python",
   "pygments_lexer": "ipython3",
   "version": "3.11.4"
  },
  "orig_nbformat": 4
 },
 "nbformat": 4,
 "nbformat_minor": 2
}
