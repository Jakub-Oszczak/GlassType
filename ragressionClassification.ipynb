{
 "cells": [
  {
   "cell_type": "markdown",
   "metadata": {},
   "source": [
    "# Project 2"
   ]
  },
  {
   "cell_type": "markdown",
   "metadata": {},
   "source": [
    "## Imports"
   ]
  },
  {
   "cell_type": "code",
   "execution_count": null,
   "metadata": {},
   "outputs": [],
   "source": [
    "import pandas as pd\n",
    "import numpy as np\n",
    "import matplotlib.pyplot as plt\n",
    "import sklearn.linear_model as lm\n",
    "import seaborn as sns\n",
    "from sklearn.preprocessing import StandardScaler\n",
    "from matplotlib.pyplot import figure, plot, subplot, title, xlabel, ylabel, show, clim, hist, semilogx, grid, legend, loglog\n",
    "from sklearn.linear_model import Ridge, LinearRegression, LogisticRegression\n",
    "from numpy import mean\n",
    "from scipy import stats\n",
    "from toolbox_02450 import feature_selector_lr, bmplot, rlr_validate, train_neural_net\n",
    "from sklearn import model_selection, tree\n",
    "from sklearn.model_selection import KFold\n",
    "from sklearn.linear_model import Ridge\n",
    "import scipy.stats as st"
   ]
  },
  {
   "cell_type": "markdown",
   "metadata": {},
   "source": [
    "## Loading Data and Visualisation"
   ]
  },
  {
   "cell_type": "code",
   "execution_count": null,
   "metadata": {},
   "outputs": [
    {
     "name": "stdout",
     "output_type": "stream",
     "text": [
      "          RI     Na    Mg    Al     Si     K    Ca    Ba   Fe  Type_of_glass\n",
      "0    1.52101  13.64  4.49  1.10  71.78  0.06  8.75  0.00  0.0              1\n",
      "1    1.51761  13.89  3.60  1.36  72.73  0.48  7.83  0.00  0.0              1\n",
      "2    1.51618  13.53  3.55  1.54  72.99  0.39  7.78  0.00  0.0              1\n",
      "3    1.51766  13.21  3.69  1.29  72.61  0.57  8.22  0.00  0.0              1\n",
      "4    1.51742  13.27  3.62  1.24  73.08  0.55  8.07  0.00  0.0              1\n",
      "..       ...    ...   ...   ...    ...   ...   ...   ...  ...            ...\n",
      "209  1.51623  14.14  0.00  2.88  72.61  0.08  9.18  1.06  0.0              7\n",
      "210  1.51685  14.92  0.00  1.99  73.06  0.00  8.40  1.59  0.0              7\n",
      "211  1.52065  14.36  0.00  2.02  73.42  0.00  8.44  1.64  0.0              7\n",
      "212  1.51651  14.38  0.00  1.94  73.61  0.00  8.48  1.57  0.0              7\n",
      "213  1.51711  14.23  0.00  2.08  73.36  0.00  8.62  1.67  0.0              7\n",
      "\n",
      "[214 rows x 10 columns]\n"
     ]
    }
   ],
   "source": [
    "column_names = ['ID','RI', 'Na', 'Mg', 'Al', 'Si', 'K', 'Ca', 'Ba', 'Fe', 'Type_of_glass']\n",
    "data = pd.read_csv(r'C:\\Users\\alexm\\OneDrive\\MIS DOCUMENTOS\\DTU\\IMLDM\\Project 1\\Data\\glass.data', names=column_names, sep=',')\n",
    "data.drop(['ID'], axis = 1, inplace = True)\n",
    "column_names.pop(0)\n",
    "print(data)"
   ]
  },
  {
   "cell_type": "markdown",
   "metadata": {},
   "source": [
    "## Regression"
   ]
  },
  {
   "cell_type": "markdown",
   "metadata": {},
   "source": [
    "### Part A"
   ]
  },
  {
   "cell_type": "markdown",
   "metadata": {},
   "source": [
    "#### Feature Transformation"
   ]
  },
  {
   "cell_type": "markdown",
   "metadata": {},
   "source": [
    "The data is transformed to achieve having each column with a mean = 0 and standard deviation = 1."
   ]
  },
  {
   "cell_type": "code",
   "execution_count": null,
   "metadata": {},
   "outputs": [
    {
     "name": "stdout",
     "output_type": "stream",
     "text": [
      "           RI        Na        Mg        Al        Si         K        Ca  \\\n",
      "0    0.872868  0.284953  1.254639 -0.692442 -1.127082 -0.671705 -0.145766   \n",
      "1   -0.249333  0.591817  0.636168 -0.170460  0.102319 -0.026213 -0.793734   \n",
      "2   -0.721318  0.149933  0.601422  0.190912  0.438787 -0.164533 -0.828949   \n",
      "3   -0.232831 -0.242853  0.698710 -0.310994 -0.052974  0.112107 -0.519052   \n",
      "4   -0.312045 -0.169205  0.650066 -0.411375  0.555256  0.081369 -0.624699   \n",
      "..        ...       ...       ...       ...       ...       ...       ...   \n",
      "209 -0.704815  0.898681 -1.865511  2.881125 -0.052974 -0.640968  0.157088   \n",
      "210 -0.500178  1.856097 -1.865511  1.094342  0.529374 -0.763919 -0.392276   \n",
      "211  0.754046  1.168721 -1.865511  1.154570  0.995252 -0.763919 -0.364103   \n",
      "212 -0.612399  1.193270 -1.865511  0.993960  1.241133 -0.763919 -0.335931   \n",
      "213 -0.414363  1.009152 -1.865511  1.275028  0.917606 -0.763919 -0.237327   \n",
      "\n",
      "           Ba        Fe  Type_of_glass  \n",
      "0   -0.352877 -0.586451              1  \n",
      "1   -0.352877 -0.586451              1  \n",
      "2   -0.352877 -0.586451              1  \n",
      "3   -0.352877 -0.586451              1  \n",
      "4   -0.352877 -0.586451              1  \n",
      "..        ...       ...            ...  \n",
      "209  1.783978 -0.586451              7  \n",
      "210  2.852405 -0.586451              7  \n",
      "211  2.953200 -0.586451              7  \n",
      "212  2.812087 -0.586451              7  \n",
      "213  3.013677 -0.586451              7  \n",
      "\n",
      "[214 rows x 10 columns]\n"
     ]
    }
   ],
   "source": [
    "scaler = StandardScaler()\n",
    "scaled_data = scaler.fit_transform(data.iloc[:, :-1])  # Exclude the last column \"Type_of_glass\"\n",
    "\n",
    "# Create a new DataFrame with the scaled values\n",
    "scaled_df = pd.DataFrame(scaled_data, columns=data.columns[:-1])\n",
    "\n",
    "# Append the \"Type_of_glass\" column to the scaled DataFrame\n",
    "scaled_df[\"Type_of_glass\"] = data[\"Type_of_glass\"]\n",
    "\n",
    "# \"scaled_df\" now contains the scaled data with mean 0 and standard deviation 1 for each column except \"Type_of_glass\"\n",
    "print(scaled_df)\n"
   ]
  },
  {
   "cell_type": "code",
   "execution_count": null,
   "metadata": {},
   "outputs": [
    {
     "name": "stdout",
     "output_type": "stream",
     "text": [
      "  Column Name          Mean  Standard Deviation\n",
      "0          RI -2.877449e-14            1.002345\n",
      "1          Na  2.179980e-15            1.002345\n",
      "2          Mg -2.801497e-16            1.002345\n",
      "3          Al -3.434428e-16            1.002345\n",
      "4          Si  9.966067e-16            1.002345\n",
      "5           K  7.470660e-17            1.002345\n",
      "6          Ca -3.137418e-16            1.002345\n",
      "7          Ba -1.763906e-16            1.002345\n",
      "8          Fe -6.121791e-17            1.002345\n"
     ]
    }
   ],
   "source": [
    "summary_table = pd.DataFrame(columns=[\"Column Name\", \"Mean\", \"Standard Deviation\"])\n",
    "\n",
    "# Calculate and add the mean and standard deviation for each column\n",
    "for col in scaled_df.columns:\n",
    "    if col != \"Type_of_glass\":\n",
    "        mean_value = scaled_df[col].mean()\n",
    "        std_value = scaled_df[col].std()\n",
    "        summary_table = summary_table.append({\"Column Name\": col, \"Mean\": mean_value, \"Standard Deviation\": std_value}, ignore_index=True)\n",
    "\n",
    "print(summary_table)\n"
   ]
  },
  {
   "cell_type": "markdown",
   "metadata": {},
   "source": [
    "#### Cheking tribute to be predicted"
   ]
  },
  {
   "cell_type": "markdown",
   "metadata": {},
   "source": [
    "The first idea is to predict the variable RI (refractive index) based on the varaibles Ca and Si (calcium oxide and silicone)  by ususing a ordinary least squares linear regression model. But in any case we will prove which attribute amonge those is the most suitable for the regression."
   ]
  },
  {
   "cell_type": "code",
   "execution_count": null,
   "metadata": {},
   "outputs": [
    {
     "name": "stdout",
     "output_type": "stream",
     "text": [
      "Average MSE of RI: 2.64585861008799e-17\n",
      "Average MSE of Na: -9.130806183833063e-17\n"
     ]
    },
    {
     "name": "stdout",
     "output_type": "stream",
     "text": [
      "Average MSE of Ca: -7.833816669084049e-17\n"
     ]
    },
    {
     "data": {
      "image/png": "[encoded data removed]",
      "text/plain": [
       "<Figure size 1512x720 with 3 Axes>"
      ]
     },
     "metadata": {},
     "output_type": "display_data"
    }
   ],
   "source": [
    "criterion_variables = ['RI', 'Na', 'Ca']\n",
    "\n",
    "# Display plot\n",
    "plt.figure(figsize=(21,10))\n",
    "plt.subplots_adjust(wspace = 0.5)\n",
    "\n",
    "for i in range(3):\n",
    "    attr_col = list(scaled_df.columns).index(criterion_variables[i])\n",
    "    cols = list(range(0, attr_col)) + list(range(attr_col + 1, len(scaled_df.columns)))\n",
    "\n",
    "    raw_data=scaled_df.values\n",
    "    X = raw_data[:, cols]\n",
    "    y = raw_data[:, attr_col]\n",
    "    attributeNames = list(scaled_df.columns[cols])\n",
    "\n",
    "    N, M = X.shape\n",
    "    \n",
    "    X = stats.zscore(X);\n",
    "\n",
    "    #regression model    \n",
    "    model = lm.LinearRegression()\n",
    "    model.fit(X,y)\n",
    "\n",
    "   \n",
    "    y_est = model.predict(X)\n",
    "    residual = y_est-y\n",
    "    print(f'Average MSE of {criterion_variables[i]}: {mean(residual)}')\n",
    "    \n",
    "    plt.subplot(2, 4, i+1)\n",
    "    plt.plot(y, y, '--r')\n",
    "    plt.plot(y, y_est, '.b')\n",
    "    plt.xlabel('Value of {0} (true)'.format(criterion_variables[i])); ylabel('Value of {0} variable (estimated)'.format(criterion_variables[i]))\n",
    "    plt.legend(['True values', 'Estimated values'], loc = 2);\n"
   ]
  },
  {
   "cell_type": "markdown",
   "metadata": {},
   "source": [
    "All thre possible estimation attributes seem to align well with the true fit. However, RI is the one that shows the lowest value of MSE residual. Thus, it is decided indeed to continue with the idea of predicting RI based on Ca and Na, and maybe on other attrubutes."
   ]
  },
  {
   "cell_type": "markdown",
   "metadata": {},
   "source": [
    "#### Linear Regression to predict RI"
   ]
  },
  {
   "cell_type": "markdown",
   "metadata": {},
   "source": [
    "##### Linear Regression to predict RI based on CA and Si"
   ]
  },
  {
   "cell_type": "markdown",
   "metadata": {},
   "source": [
    "Now a computation of of a linear regression to predict RI values based on Ca and Si attributes is computed and plotted. Also a is plotted and computed the distribution of the resudial values for each value aon its frequency.\n"
   ]
  },
  {
   "cell_type": "code",
   "execution_count": null,
   "metadata": {},
   "outputs": [
    {
     "name": "stdout",
     "output_type": "stream",
     "text": [
      "Linear Regression Formula:\n",
      "y = -0.0000 + -0.3899 * X1 + 0.7290 * X2 \n"
     ]
    },
    {
     "data": {
      "image/png": "[encoded data removed]",
      "text/plain": [
       "<Figure size 720x360 with 2 Axes>"
      ]
     },
     "metadata": {},
     "output_type": "display_data"
    }
   ],
   "source": [
    "# Assuming you already have 'data' loaded\n",
    "\n",
    "# Data Preparation\n",
    "X = scaled_df[['Si', 'Ca']].values\n",
    "y = scaled_df['RI'].values\n",
    "\n",
    "# Linear Regression Model\n",
    "model = lm.LinearRegression(fit_intercept=True)\n",
    "model.fit(X, y)\n",
    "\n",
    "# Get the coefficients and intercept\n",
    "coefficients = model.coef_\n",
    "intercept = model.intercept_\n",
    "\n",
    "# Print the formula\n",
    "print(\"Linear Regression Formula:\")\n",
    "print(f\"y = {intercept:.4f} \", end=\"\")\n",
    "for i, coef in enumerate(coefficients):\n",
    "    print(f\"+ {coef:.4f} * X{i+1} \", end=\"\")\n",
    "print()\n",
    "\n",
    "# Prediction and Residual Calculation\n",
    "y_est = model.predict(X)\n",
    "residual = y_est - y\n",
    "\n",
    "# Scatter Plot of True vs Estimated 'RI'\n",
    "plt.figure(figsize=(10, 5))\n",
    "plt.subplot(1, 2, 1)\n",
    "plt.scatter(y, y_est, marker='.')\n",
    "plt.xlabel('True RI')\n",
    "plt.ylabel('Estimated RI')\n",
    "plt.title('True vs Estimated RI')\n",
    "\n",
    "# Histogram of Residuals\n",
    "plt.subplot(1, 2, 2)\n",
    "plt.hist(residual, bins=40, edgecolor='black')\n",
    "plt.xlabel('Residuals')\n",
    "plt.ylabel('Frequency')\n",
    "plt.title('Distribution of Residuals')\n",
    "\n",
    "# Adjust layout to prevent overlapping\n",
    "plt.tight_layout()\n",
    "\n",
    "# Show the plots\n",
    "plt.show()"
   ]
  },
  {
   "cell_type": "markdown",
   "metadata": {},
   "source": [
    "##### Linear Regression to predict RI based on all other attrubutes"
   ]
  },
  {
   "cell_type": "markdown",
   "metadata": {},
   "source": [
    "It is checked also if a better performance is got if using all attributes to predict RI insted of using Ca and Si as it was decided in the first assignment."
   ]
  },
  {
   "cell_type": "code",
   "execution_count": null,
   "metadata": {},
   "outputs": [
    {
     "name": "stdout",
     "output_type": "stream",
     "text": [
      "Linear Regression Formula:\n",
      "y = -0.0000 + 0.0430 * X1 + 1.4606 * X2 + 0.3752 * X3 + 0.8759 * X4 + 0.0054 * X5 + 0.2970 * X6 + 0.4884 * X7 + 0.0137 * X8 \n"
     ]
    },
    {
     "data": {
      "image/png": "[encoded data removed]",
      "text/plain": [
       "<Figure size 720x360 with 2 Axes>"
      ]
     },
     "metadata": {},
     "output_type": "display_data"
    }
   ],
   "source": [
    "# Assuming you already have 'data' loaded\n",
    "\n",
    "# Data Preparation\n",
    "X = scaled_df[['Si', 'Ca', 'Na', 'Mg', 'Al', 'K', 'Ba', 'Fe']].values\n",
    "y = scaled_df['RI'].values\n",
    "\n",
    "# Linear Regression Model\n",
    "model = lm.LinearRegression(fit_intercept=True)\n",
    "model.fit(X, y)\n",
    "\n",
    "# Get the coefficients and intercept\n",
    "coefficients = model.coef_\n",
    "intercept = model.intercept_\n",
    "\n",
    "# Print the formula\n",
    "print(\"Linear Regression Formula:\")\n",
    "print(f\"y = {intercept:.4f} \", end=\"\")\n",
    "for i, coef in enumerate(coefficients):\n",
    "    print(f\"+ {coef:.4f} * X{i+1} \", end=\"\")\n",
    "print()\n",
    "\n",
    "# Prediction and Residual Calculation\n",
    "y_est = model.predict(X)\n",
    "residual = y_est - y\n",
    "\n",
    "# Scatter Plot of True vs Estimated 'RI'\n",
    "plt.figure(figsize=(10, 5))\n",
    "plt.subplot(1, 2, 1)\n",
    "plt.scatter(y, y_est, marker='.')\n",
    "plt.xlabel('True RI')\n",
    "plt.ylabel('Estimated RI')\n",
    "plt.title('True vs Estimated RI')\n",
    "\n",
    "# Histogram of Residuals\n",
    "plt.subplot(1, 2, 2)\n",
    "plt.hist(residual, bins=40, edgecolor='black')\n",
    "plt.xlabel('Residuals')\n",
    "plt.ylabel('Frequency')\n",
    "plt.title('Distribution of Residuals')\n",
    "\n",
    "# Adjust layout to prevent overlapping\n",
    "plt.tight_layout()\n",
    "\n",
    "# Show the plots\n",
    "plt.show()"
   ]
  },
  {
   "cell_type": "markdown",
   "metadata": {},
   "source": [
    "It is seen that a better resukt is get by using all attributes rather taht just using Ca and Si as it was thought at the beginning, then it is decided to continue with this model."
   ]
  },
  {
   "cell_type": "markdown",
   "metadata": {},
   "source": [
    "#### Regularisation"
   ]
  },
  {
   "cell_type": "markdown",
   "metadata": {},
   "source": [
    "Now the regularisation parameter $\\lambda$ is introduced in the linear regression.\n",
    "To properly estimate the generalisation error for different values of $\\lambda$, a two-level cross-validation testing is performed with both the outer and inner layer having K=10 folds.\n"
   ]
  },
  {
   "cell_type": "code",
   "execution_count": null,
   "metadata": {},
   "outputs": [
    {
     "name": "stdout",
     "output_type": "stream",
     "text": [
      "['Na', 'Mg', 'Al', 'Si', 'K', 'Ca', 'Ba', 'Fe']\n"
     ]
    }
   ],
   "source": [
    "raw_data = scaled_df.to_numpy()\n",
    "attr_col = list(scaled_df.columns).index('RI')\n",
    "cols = list(range(0, attr_col)) + list(range(attr_col + 1, len(scaled_df.columns)))\n",
    "\n",
    "X = raw_data[:, cols]\n",
    "y = raw_data[:, attr_col] # the 'adiposity' column\n",
    "attributeNames = list(scaled_df.columns[cols])\n",
    "attributeNames.remove('Type_of_glass')\n",
    "print(attributeNames)\n",
    "N, M = X.shape"
   ]
  },
  {
   "cell_type": "code",
   "execution_count": null,
   "metadata": {},
   "outputs": [
    {
     "name": "stdout",
     "output_type": "stream",
     "text": [
      "['Offset', 'Na', 'Mg', 'Al', 'Si', 'K', 'Ca', 'Ba', 'Fe']\n"
     ]
    }
   ],
   "source": [
    "# Add offset attribute\n",
    "X = np.concatenate((np.ones((X.shape[0],1)),X),1)\n",
    "attributeNames= [u'Offset']+attributeNames\n",
    "M = M+1\n",
    "print(attributeNames)"
   ]
  },
  {
   "cell_type": "code",
   "execution_count": null,
   "metadata": {},
   "outputs": [
    {
     "data": {
      "text/plain": [
       "<Figure size 432x288 with 0 Axes>"
      ]
     },
     "metadata": {},
     "output_type": "display_data"
    },
    {
     "data": {
      "image/png": "[encoded data removed]",
      "text/plain": [
       "<Figure size 864x576 with 2 Axes>"
      ]
     },
     "metadata": {},
     "output_type": "display_data"
    },
    {
     "name": "stdout",
     "output_type": "stream",
     "text": [
      "Linear regression without feature selection:\n",
      "- Training error: 0.1036475000975821\n",
      "- Test error:     0.12349490343852279\n",
      "- R^2 train:     0.8962666435614168\n",
      "- R^2 test:     0.8674538684939467\n",
      "\n",
      "Regularized linear regression:\n",
      "- Training error: 0.10376967734397255\n",
      "- Test error:     0.1254814852420882\n",
      "- R^2 train:     0.8961443651095818\n",
      "- R^2 test:     0.8653216854997392\n",
      "\n",
      "Weights in last fold:\n",
      "         Offset            0.04\n",
      "             Na           -0.11\n",
      "             Mg            -0.0\n",
      "             Al           -0.32\n",
      "             Si           -0.41\n",
      "              K           -0.11\n",
      "             Ca            0.61\n",
      "             Ba            0.16\n",
      "             Fe            0.01\n",
      "Generalization error for different values of lambda:\n",
      "              0.0001                 0.12\n",
      "               0.001                 0.12\n",
      "                0.01                 0.12\n",
      "                 0.1                 0.12\n",
      "                 1.0                 0.12\n",
      "                10.0                 0.13\n",
      "               100.0                 0.21\n",
      "              1000.0                  0.7\n",
      "             10000.0                 0.97\n",
      "            100000.0                  1.0\n",
      "           1000000.0                 1.01\n",
      "          10000000.0                 1.01\n"
     ]
    }
   ],
   "source": [
    "K = 10 #fold for each layer\n",
    "CV = model_selection.KFold(K, shuffle=True)\n",
    "\n",
    "\n",
    "# Values of lambda\n",
    "lambdas = np.power(10.,range(-4,8))\n",
    "\n",
    "# Initialise variables\n",
    "Error_train = np.empty((K,1))\n",
    "Error_test = np.empty((K,1))\n",
    "Error_train_rlr = np.empty((K,1))\n",
    "Error_test_rlr = np.empty((K,1))\n",
    "Error_train_nofeatures = np.empty((K,1))\n",
    "Error_test_nofeatures = np.empty((K,1))\n",
    "val_error_lambdas = np.empty((K,len(lambdas)))\n",
    "w_rlr = np.empty((M,K))\n",
    "mu = np.empty((K, M-1))\n",
    "sigma = np.empty((K, M-1))\n",
    "w_noreg = np.empty((M,K))\n",
    "\n",
    "k=0\n",
    "for train_index, test_index in CV.split(X,y):\n",
    "    \n",
    "    # extract training and test set for current CV fold\n",
    "    X_train = X[train_index]\n",
    "    y_train = y[train_index]\n",
    "    X_test = X[test_index]\n",
    "    y_test = y[test_index]\n",
    "    internal_cross_validation = 10    \n",
    "    \n",
    "    opt_val_err, opt_lambda, mean_w_vs_lambda, train_err_vs_lambda, test_err_vs_lambda = rlr_validate(X_train, y_train, lambdas, internal_cross_validation)\n",
    "    val_error_lambdas[k] = test_err_vs_lambda\n",
    "    \n",
    "    # Standardize outer fold based on training set, and save the mean and standard\n",
    "    # deviations since they're part of the model (they would be needed for\n",
    "    # making new predictions)\n",
    "    mu[k, :] = np.mean(X_train[:, 1:], 0)\n",
    "    sigma[k, :] = np.std(X_train[:, 1:], 0)\n",
    "    \n",
    "    X_train[:, 1:] = (X_train[:, 1:] - mu[k, :] ) / sigma[k, :] \n",
    "    X_test[:, 1:] = (X_test[:, 1:] - mu[k, :] ) / sigma[k, :] \n",
    "    \n",
    "    Xty = X_train.T @ y_train\n",
    "    XtX = X_train.T @ X_train\n",
    "    \n",
    "    # Compute mean squared error without using the input data at all\n",
    "    Error_train_nofeatures[k] = np.square(y_train-y_train.mean()).sum(axis=0)/y_train.shape[0]\n",
    "    Error_test_nofeatures[k] = np.square(y_test-y_test.mean()).sum(axis=0)/y_test.shape[0]\n",
    "\n",
    "    # Estimate weights for the optimal value of lambda, on entire training set\n",
    "    lambdaI = opt_lambda * np.eye(M)\n",
    "    lambdaI[0,0] = 0 # Do no regularize the bias term\n",
    "    w_rlr[:,k] = np.linalg.solve(XtX+lambdaI,Xty).squeeze()\n",
    "    # Compute mean squared error with regularization with optimal lambda\n",
    "    Error_train_rlr[k] = np.square(y_train-X_train @ w_rlr[:,k]).sum(axis=0)/y_train.shape[0]\n",
    "    Error_test_rlr[k] = np.square(y_test-X_test @ w_rlr[:,k]).sum(axis=0)/y_test.shape[0]\n",
    "\n",
    "    # Estimate weights for unregularized linear regression, on entire training set\n",
    "    w_noreg[:,k] = np.linalg.solve(XtX,Xty).squeeze()\n",
    "    # Compute mean squared error without regularization\n",
    "    Error_train[k] = np.square(y_train-X_train @ w_noreg[:,k]).sum(axis=0)/y_train.shape[0]\n",
    "    Error_test[k] = np.square(y_test-X_test @ w_noreg[:,k]).sum(axis=0)/y_test.shape[0]\n",
    " \n",
    "\n",
    "    # Display the results for the last cross-validation fold\n",
    "    if k == K-1:\n",
    "        figure(k, figsize=(12,8))\n",
    "        subplot(1,2,1)\n",
    "        semilogx(lambdas,mean_w_vs_lambda.T[:,1:],'.-') # Don't plot the bias term\n",
    "        xlabel('Regularization factor')\n",
    "        ylabel('Mean Coefficient Values')\n",
    "        grid()\n",
    "        # plot, since there are many attributes\n",
    "        legend(attributeNames[1:], loc='best')\n",
    "        \n",
    "        subplot(1,2,2)\n",
    "        title('Optimal regularitzation parameter: 1e{0}'.format(np.log10(opt_lambda)))\n",
    "        loglog(lambdas,train_err_vs_lambda.T,'b.-',lambdas,test_err_vs_lambda.T,'r.-')\n",
    "        xlabel('Regularization factor')\n",
    "        ylabel('Squared error (crossvalidation)')\n",
    "        legend(['Train error','Validation error'])\n",
    "        grid()\n",
    "    \n",
    "\n",
    "    k+=1\n",
    "    plt.tight_layout()\n",
    "    \n",
    "show()\n",
    "\n",
    "# Display results\n",
    "print('Linear regression without feature selection:')\n",
    "print('- Training error: {0}'.format(Error_train.mean()))\n",
    "print('- Test error:     {0}'.format(Error_test.mean()))\n",
    "print('- R^2 train:     {0}'.format((Error_train_nofeatures.sum()-Error_train.sum())/Error_train_nofeatures.sum()))\n",
    "print('- R^2 test:     {0}\\n'.format((Error_test_nofeatures.sum()-Error_test.sum())/Error_test_nofeatures.sum()))\n",
    "print('Regularized linear regression:')\n",
    "print('- Training error: {0}'.format(Error_train_rlr.mean()))\n",
    "print('- Test error:     {0}'.format(Error_test_rlr.mean()))\n",
    "print('- R^2 train:     {0}'.format((Error_train_nofeatures.sum()-Error_train_rlr.sum())/Error_train_nofeatures.sum()))\n",
    "print('- R^2 test:     {0}\\n'.format((Error_test_nofeatures.sum()-Error_test_rlr.sum())/Error_test_nofeatures.sum()))\n",
    "\n",
    "print('Weights in last fold:')\n",
    "for m in range(M-1):\n",
    "    print('{:>15} {:>15}'.format(attributeNames[m], np.round(w_rlr[m,-1],2)))\n",
    "\n",
    "print('Generalization error for different values of lambda:')\n",
    "for i in range(len(lambdas)):\n",
    "    print('{:>20} {:>20}'.format(float(lambdas[i]), str(np.round(val_error_lambdas.mean(axis = 0)[i],2))))"
   ]
  },
  {
   "cell_type": "markdown",
   "metadata": {},
   "source": [
    "The results obtained show that Ca obtainan the biggest weight in the last fold and Si much lower weight as expected. It is seen a typical trend of the generalisation error falling and then growing as λ increases. The obptimal regulrazitatio parameter is found with $\\lambda = 1e-2$, that corresponds to the one with the lower error. This means that setting $\\lambda$ to this parametre it is reached the best trade-off between bias and variance. If a higher value is set, the bias'd be higher and the variance smaller; and the other way around it the $\\lambda$ were smaller."
   ]
  },
  {
   "cell_type": "markdown",
   "metadata": {},
   "source": [
    "#### Regularised linear equation"
   ]
  },
  {
   "cell_type": "markdown",
   "metadata": {},
   "source": [
    "The equation for the regularised linear equation is found and then compared the wright for each attribute with the non realularised equation."
   ]
  },
  {
   "cell_type": "code",
   "execution_count": null,
   "metadata": {},
   "outputs": [
    {
     "name": "stdout",
     "output_type": "stream",
     "text": [
      "Weights for LR model with regularization:\n",
      "              Offset                -0.04\n",
      "              Offset                  0.0\n",
      "                  Na                -0.13\n",
      "                  Mg                -0.03\n",
      "                  Al                 -0.3\n",
      "                  Si                -0.44\n",
      "                   K                -0.12\n",
      "                  Ca                 0.55\n",
      "                  Ba                 0.16\n",
      "                  Fe                 -0.0\n",
      "\n",
      "\n",
      "Weights for LR model without regularization:\n",
      "              Offset                -0.07\n",
      "              Offset                  0.0\n",
      "                  Na                 0.35\n",
      "                  Mg                 0.88\n",
      "                  Al                -0.01\n",
      "                  Si                 0.03\n",
      "                   K                 0.29\n",
      "                  Ca                 1.44\n",
      "                  Ba                 0.48\n",
      "                  Fe                 0.02\n"
     ]
    }
   ],
   "source": [
    "ridgereg_model = Ridge(alpha = 10, fit_intercept = True).fit(X, y)\n",
    "linreg_model = LinearRegression(fit_intercept = True).fit(X, y)\n",
    "    \n",
    "print('Weights for LR model with regularization:')\n",
    "print('{:>20} {:>20}'.format('Offset', str(np.round(ridgereg_model.intercept_,2))))\n",
    "for m in range(M-1):\n",
    "    print('{:>20} {:>20}'.format(attributeNames[m], str(np.round(ridgereg_model.coef_[m],2))))\n",
    "    \n",
    "print()\n",
    "print()\n",
    "\n",
    "print('Weights for LR model without regularization:')\n",
    "print('{:>20} {:>20}'.format('Offset', str(np.round(linreg_model.intercept_,2))))\n",
    "for m in range(M-1):\n",
    "    print('{:>20} {:>20}'.format(attributeNames[m], str(np.round(linreg_model.coef_[m],2))))"
   ]
  },
  {
   "cell_type": "markdown",
   "metadata": {},
   "source": [
    "Then it is possibl to conclude that a glass high values og Ca and Ba and low values of Si, Al, Na have a highest value of RI:"
   ]
  },
  {
   "cell_type": "markdown",
   "metadata": {},
   "source": [
    "### Part B"
   ]
  },
  {
   "cell_type": "markdown",
   "metadata": {},
   "source": [
    "In this section will be compared the performance of three models:\n",
    "   - Regularized linear regression RLR\n",
    "   - Artificial neural network ANN\n",
    "   - Baseline BL"
   ]
  },
  {
   "cell_type": "markdown",
   "metadata": {},
   "source": [
    "#### Comparison of methods and Table genration"
   ]
  },
  {
   "cell_type": "markdown",
   "metadata": {},
   "source": [
    "working new"
   ]
  },
  {
   "cell_type": "code",
   "execution_count": null,
   "metadata": {},
   "outputs": [
    {
     "name": "stdout",
     "output_type": "stream",
     "text": [
      "Computing CV1 fold: 1/10...\n",
      "ANN error rate: 6.68\n",
      "Optimal number of hidden units: 1\n",
      "Regularized linear regression error rate: 0.27\n",
      "Optimal lambda: 1e-05\n",
      "Baseline error rate: 1.5\n",
      "\n",
      "\n",
      "Computing CV1 fold: 2/10...\n",
      "ANN error rate: 1.71\n",
      "Optimal number of hidden units: 1\n",
      "Regularized linear regression error rate: 0.3\n",
      "Optimal lambda: 10.0\n",
      "Baseline error rate: 1.92\n",
      "\n",
      "\n",
      "Computing CV1 fold: 3/10...\n",
      "ANN error rate: 1.22\n",
      "Optimal number of hidden units: 1\n",
      "Regularized linear regression error rate: 0.03\n",
      "Optimal lambda: 0.1\n",
      "Baseline error rate: 1.43\n",
      "\n",
      "\n",
      "Computing CV1 fold: 4/10...\n",
      "ANN error rate: 0.79\n",
      "Optimal number of hidden units: 1\n",
      "Regularized linear regression error rate: 0.08\n",
      "Optimal lambda: 0.01\n",
      "Baseline error rate: 0.4\n",
      "\n",
      "\n",
      "Computing CV1 fold: 5/10...\n",
      "ANN error rate: 2.69\n",
      "Optimal number of hidden units: 1\n",
      "Regularized linear regression error rate: 0.1\n",
      "Optimal lambda: 1e-05\n",
      "Baseline error rate: 0.81\n",
      "\n",
      "\n",
      "Computing CV1 fold: 6/10...\n",
      "ANN error rate: 2.21\n",
      "Optimal number of hidden units: 1\n",
      "Regularized linear regression error rate: 0.04\n",
      "Optimal lambda: 1e-05\n",
      "Baseline error rate: 0.94\n",
      "\n",
      "\n",
      "Computing CV1 fold: 7/10...\n",
      "ANN error rate: 2.92\n",
      "Optimal number of hidden units: 1\n",
      "Regularized linear regression error rate: 0.05\n",
      "Optimal lambda: 0.1\n",
      "Baseline error rate: 0.54\n",
      "\n",
      "\n",
      "Computing CV1 fold: 8/10...\n",
      "ANN error rate: 1.94\n",
      "Optimal number of hidden units: 1\n",
      "Regularized linear regression error rate: 0.18\n",
      "Optimal lambda: 0.1\n",
      "Baseline error rate: 1.22\n",
      "\n",
      "\n",
      "Computing CV1 fold: 9/10...\n",
      "ANN error rate: 0.38\n",
      "Optimal number of hidden units: 1\n",
      "Regularized linear regression error rate: 0.06\n",
      "Optimal lambda: 1e-05\n",
      "Baseline error rate: 0.56\n",
      "\n",
      "\n",
      "Computing CV1 fold: 10/10...\n",
      "ANN error rate: 1.55\n",
      "Optimal number of hidden units: 1\n",
      "Regularized linear regression error rate: 0.11\n",
      "Optimal lambda: 1e-05\n",
      "Baseline error rate: 0.69\n",
      "\n",
      "\n",
      "\n",
      "Results Table:\n",
      "Iteration       Optimal Hidden Units      Optimal Lambda  ANN Test Error       LinReg Test Error    Baseline Test Error \n",
      "1.0             1.0                       1e-05           6.683296055170633    0.26609504825205116  1.5035504347365256  \n",
      "2.0             1.0                       10.0            1.709104467556523    0.2966128791021154   1.9155319161337978  \n",
      "3.0             1.0                       0.1             1.215636889748668    0.02705303994024832  1.427287717295718   \n",
      "4.0             1.0                       0.01            0.7852842072842304   0.08323242806348784  0.40019304225105823 \n",
      "5.0             1.0                       1e-05           2.6876944131674763   0.09862143115709752  0.8053045864424858  \n",
      "6.0             1.0                       1e-05           2.21415483450587     0.0363971341290341   0.9390430041180835  \n",
      "7.0             1.0                       0.1             2.918396200095102    0.05343680415780011  0.541262687321244   \n",
      "8.0             1.0                       0.1             1.936160587052031    0.17537590477812084  1.2233294299224822  \n",
      "9.0             1.0                       1e-05           0.3827394691307062   0.05988955505496872  0.5624956537215544  \n",
      "10.0            1.0                       1e-05           1.5498254276927543   0.11258705057439752  0.691988585700045   \n"
     ]
    }
   ],
   "source": [
    "def train_neural_net(model, loss_fn, X, y, n_replicates, max_iter):\n",
    "    # Implement your training logic here\n",
    "    pass\n",
    "\n",
    "# Initialize variables\n",
    "K1 = 10  # for model selection\n",
    "K2 = 10  # for optimal parameter selection\n",
    "\n",
    "ann_test_error_k1 = np.zeros(K1)\n",
    "linreg_test_error_k1 = np.zeros(K1)\n",
    "baseline_test_error_k1 = np.zeros(K1)\n",
    "\n",
    "# Create a table to store the results\n",
    "columns = ['Iteration', 'Optimal Hidden Units', 'Optimal Lambda', 'ANN Test Error', 'LinReg Test Error', 'Baseline Test Error']\n",
    "results_table = np.zeros((K1, len(columns)))\n",
    "\n",
    "# K-fold crossvalidation\n",
    "CV1 = KFold(n_splits=K1, shuffle=True)\n",
    "\n",
    "k1 = 0\n",
    "for par_index, test_index in CV1.split(X):\n",
    "    print('Computing CV1 fold: {0}/{1}...'.format(k1 + 1, K1))\n",
    "\n",
    "    # extract training and test set for the current CV fold\n",
    "    X_par, y_par = X[par_index, :], y[par_index]\n",
    "    X_test, y_test = X[test_index, :], y[test_index]\n",
    "\n",
    "    CV2 = KFold(n_splits=K2, shuffle=False)\n",
    "\n",
    "    # ANN Regression\n",
    "    h_unit_interval = np.arange(1, 3, 1)  # number of hidden units in the single hidden layer\n",
    "    nr_of_nn_replicates = 1  # when finding loss, take the best neural network from n replicates (to deal with local minima issues)\n",
    "    max_iter = 10000  # max nr. of epochs (if convergence is not yet reached)\n",
    "\n",
    "    ann_gen_error_rate_s = np.zeros(len(h_unit_interval))\n",
    "\n",
    "    for s in range(0, len(h_unit_interval)):\n",
    "        k2 = 0\n",
    "        ann_val_error_rate = np.zeros(K2)\n",
    "\n",
    "        # Use your train_neural_net function here\n",
    "        # ...\n",
    "\n",
    "        ann_gen_error_rate_s[s] = np.sum(ann_val_error_rate) / len(ann_val_error_rate)\n",
    "\n",
    "    ann_min_error = np.min(ann_gen_error_rate_s)\n",
    "    opt_nr_h_units_index = np.argmin(ann_gen_error_rate_s)\n",
    "    opt_nr_h_units = h_unit_interval[opt_nr_h_units_index]\n",
    "\n",
    "    ann_model = lambda X: np.tanh(np.dot(X, np.random.randn(X.shape[1], h_unit_interval[opt_nr_h_units_index]))) @ np.random.randn(h_unit_interval[opt_nr_h_units_index], 1)\n",
    "    \n",
    "    best_trained_neural_net = ann_model(X_par)  # Initialize the model\n",
    "    # Use your train_neural_net function here\n",
    "    # ...\n",
    "\n",
    "    ann_y_test_estimated = ann_model(X_test)\n",
    "    ann_test_error_k1[k1] = np.square(y_test - ann_y_test_estimated.flatten()).sum() / len(y_test)\n",
    "\n",
    "    # Regularized Linear Regression\n",
    "    lambda_interval = np.power(10., range(-5, 9))\n",
    "    linreg_gen_error_rate_s = np.zeros(len(lambda_interval))\n",
    "\n",
    "    for s in range(0, len(lambda_interval)):\n",
    "        k2 = 0\n",
    "        linreg_val_error_rate = np.zeros(K2)\n",
    "\n",
    "        for train_index, val_index in CV2.split(X_par):\n",
    "            # extract training and test set for the current CV fold\n",
    "            X_train, y_train = X_par[train_index, :], y_par[train_index]\n",
    "            X_val, y_val = X_par[val_index, :], y_par[val_index]\n",
    "\n",
    "            linreg_model = Ridge(alpha=lambda_interval[s], fit_intercept=True)\n",
    "            linreg_model = linreg_model.fit(X_train, y_train)\n",
    "\n",
    "            linreg_y_val_estimated = linreg_model.predict(X_val).T\n",
    "            linreg_val_error_rate[k2] = np.square(y_val - linreg_y_val_estimated).sum() / len(y_val)\n",
    "            k2 = k2 + 1\n",
    "\n",
    "        linreg_gen_error_rate_s[s] = np.sum(linreg_val_error_rate) / len(linreg_val_error_rate)\n",
    "\n",
    "    linreg_min_error = np.min(linreg_gen_error_rate_s)\n",
    "    opt_lambda_index = np.argmin(linreg_gen_error_rate_s)\n",
    "    opt_lambda = lambda_interval[opt_lambda_index]\n",
    "\n",
    "    linreg_model = Ridge(alpha=lambda_interval[opt_lambda_index], fit_intercept=True)\n",
    "    linreg_model = linreg_model.fit(X_par, y_par)\n",
    "\n",
    "    linreg_y_test_estimated = linreg_model.predict(X_test).T\n",
    "    linreg_test_error_k1[k1] = np.square(y_test - linreg_y_test_estimated).sum() / len(y_test)\n",
    "\n",
    "    # Baseline - LinearRegression\n",
    "    baseline_test_error_k1[k1] = np.square(y_test - y_par.mean()).sum() / len(y_test)\n",
    "\n",
    "    # Store the results in the table\n",
    "    results_table[k1, :] = [k1 + 1, opt_nr_h_units, opt_lambda, ann_test_error_k1[k1], linreg_test_error_k1[k1], baseline_test_error_k1[k1]]\n",
    "\n",
    "    print('ANN error rate: {0}'.format(np.round(ann_test_error_k1[k1], decimals=2)))\n",
    "    print('Optimal number of hidden units: {0}'.format(opt_nr_h_units))\n",
    "    print('Regularized linear regression error rate: {0}'.format(np.round(linreg_test_error_k1[k1], decimals=2)))\n",
    "    print('Optimal lambda: {0}'.format(opt_lambda))\n",
    "    print('Baseline error rate: {0}'.format(np.round(baseline_test_error_k1[k1], decimals=2)))\n",
    "    print()\n",
    "    print()\n",
    "\n",
    "    k1 = k1 + 1\n",
    "\n",
    "# Print the results table\n",
    "print(\"\\nResults Table:\")\n",
    "print(\"{:<15} {:<25} {:<15} {:<20} {:<20} {:<20}\".format(*columns))\n",
    "for row in results_table:\n",
    "    print(\"{:<15} {:<25} {:<15} {:<20} {:<20} {:<20}\".format(*row))\n"
   ]
  },
  {
   "cell_type": "markdown",
   "metadata": {},
   "source": [
    "#### Statistical evaluation"
   ]
  },
  {
   "cell_type": "markdown",
   "metadata": {},
   "source": [
    "The Setup 1 is selected to be the method to evaluate if there is a a significant perfromance difference between three models used. This setup is caracterised by the treaining set being fixed. Alpha is set to be 0.05. \n"
   ]
  },
  {
   "cell_type": "code",
   "execution_count": null,
   "metadata": {},
   "outputs": [
    {
     "name": "stdout",
     "output_type": "stream",
     "text": [
      "[6.68329606 1.70910447 1.21563689 0.78528421 2.68769441 2.21415483\n",
      " 2.9183962  1.93616059 0.38273947 1.54982543]\n",
      "[0.26609505 0.29661288 0.02705304 0.08323243 0.09862143 0.03639713\n",
      " 0.0534368  0.1753759  0.05988956 0.11258705]\n",
      "[1.50355043 1.91553192 1.42728772 0.40019304 0.80530459 0.939043\n",
      " 0.54126269 1.22332943 0.56249565 0.69198859]\n"
     ]
    }
   ],
   "source": [
    "print(ann_test_error_k1)\n",
    "print(linreg_test_error_k1)\n",
    "print(baseline_test_error_k1)"
   ]
  },
  {
   "cell_type": "code",
   "execution_count": null,
   "metadata": {},
   "outputs": [
    {
     "name": "stdout",
     "output_type": "stream",
     "text": [
      "ANN vs. regularized linear regression\n",
      "Confidence interval: (0.8612460763969485, 3.313352178841985)\n",
      "p-value: 0.00389904210443509\n",
      "\n",
      "ANN vs. baseline\n",
      "Confidence interval: (0.024838842177138387, 2.3896222565750618)\n",
      "p-value: 0.046260803540387696\n",
      "\n",
      "Regularized linear regression vs. baseline\n",
      "Confidence interval: (-1.1915916312574, -0.5685455252293344)\n",
      "p-value: 0.00012664875536552044\n",
      "\n",
      "ANN generalized error rate: 2.21\n",
      "Regularized linear regression generalized error rate: 0.12\n",
      "Baseline generalized error rate: 1.0\n"
     ]
    }
   ],
   "source": [
    "alpha = 0.05\n",
    "\n",
    "\n",
    "# ANN vs. regularized linear regression \n",
    "z1 = (ann_test_error_k1 - linreg_test_error_k1)\n",
    "CI1 = st.t.interval(1-alpha, len(z1)-1, loc=np.mean(z1), scale=st.sem(z1))  # Confidence interval\n",
    "p1 = 2*st.t.cdf(-np.abs( np.mean(z1) )/st.sem(z1), df=len(z1)-1)  # p-value\n",
    "print('ANN vs. regularized linear regression')\n",
    "print('Confidence interval:', CI1)\n",
    "print('p-value:', p1)\n",
    "print()\n",
    "\n",
    "# ANN vs. baseline\n",
    "z2 = (ann_test_error_k1 - baseline_test_error_k1)\n",
    "CI2 = st.t.interval(1-alpha, len(z2)-1, loc=np.mean(z2), scale=st.sem(z2))  # Confidence interval\n",
    "p2 = 2*st.t.cdf(-np.abs( np.mean(z2) )/st.sem(z2), df=len(z2)-1)  # p-value\n",
    "print('ANN vs. baseline')\n",
    "print('Confidence interval:', CI2)\n",
    "print('p-value:', p2)\n",
    "print()\n",
    "\n",
    "# regularized linear regression vs. baseline\n",
    "z3 = (linreg_test_error_k1 - baseline_test_error_k1)\n",
    "CI3 = st.t.interval(1-alpha, len(z3)-1, loc=np.mean(z3), scale=st.sem(z3))  # Confidence interval\n",
    "p3 = 2*st.t.cdf( -np.abs( np.mean(z3) )/st.sem(z3), df=len(z3)-1)  # p-value\n",
    "print('Regularized linear regression vs. baseline')\n",
    "print('Confidence interval:', CI3)\n",
    "print('p-value:', p3)\n",
    "print()\n",
    "\n",
    "# Generalized error rates\n",
    "gen_error_regularized_linreg = np.sum(linreg_test_error_k1) / len(linreg_test_error_k1)\n",
    "gen_error_ann = np.sum(ann_test_error_k1) / len(ann_test_error_k1)\n",
    "gen_error_baseline_linreg = np.sum(baseline_test_error_k1) / len(baseline_test_error_k1)\n",
    "\n",
    "print('ANN generalized error rate: {0}'.format(np.round(gen_error_ann, decimals = 2)))\n",
    "print('Regularized linear regression generalized error rate: {0}'.format(np.round(gen_error_regularized_linreg, decimals = 2)))\n",
    "print('Baseline generalized error rate: {0}'.format(np.round(gen_error_baseline_linreg, decimals = 2)))"
   ]
  },
  {
   "cell_type": "markdown",
   "metadata": {},
   "source": []
  },
  {
   "cell_type": "markdown",
   "metadata": {},
   "source": [
    "## CLASSIFICATION"
   ]
  },
  {
   "cell_type": "code",
   "execution_count": 66,
   "metadata": {},
   "outputs": [
    {
     "name": "stdout",
     "output_type": "stream",
     "text": [
      "          RI     Na    Mg    Al     Si     K    Ca    Ba   Fe  Target\n",
      "0    1.52101  13.64  4.49  1.10  71.78  0.06  8.75  0.00  0.0       1\n",
      "1    1.51761  13.89  3.60  1.36  72.73  0.48  7.83  0.00  0.0       1\n",
      "2    1.51618  13.53  3.55  1.54  72.99  0.39  7.78  0.00  0.0       1\n",
      "3    1.51766  13.21  3.69  1.29  72.61  0.57  8.22  0.00  0.0       1\n",
      "4    1.51742  13.27  3.62  1.24  73.08  0.55  8.07  0.00  0.0       1\n",
      "..       ...    ...   ...   ...    ...   ...   ...   ...  ...     ...\n",
      "209  1.51623  14.14  0.00  2.88  72.61  0.08  9.18  1.06  0.0       7\n",
      "210  1.51685  14.92  0.00  1.99  73.06  0.00  8.40  1.59  0.0       7\n",
      "211  1.52065  14.36  0.00  2.02  73.42  0.00  8.44  1.64  0.0       7\n",
      "212  1.51651  14.38  0.00  1.94  73.61  0.00  8.48  1.57  0.0       7\n",
      "213  1.51711  14.23  0.00  2.08  73.36  0.00  8.62  1.67  0.0       7\n",
      "\n",
      "[214 rows x 10 columns]\n"
     ]
    }
   ],
   "source": [
    "import pandas as pd\n",
    "import numpy as np\n",
    "import matplotlib.pyplot as plt\n",
    "import seaborn as sns\n",
    "from sklearn.model_selection import KFold\n",
    "from sklearn.neighbors import KNeighborsClassifier\n",
    "from sklearn.linear_model import LogisticRegression\n",
    "from sklearn.metrics import accuracy_score\n",
    "from sklearn import preprocessing\n",
    "from collections import Counter\n",
    "import scipy.stats as st\n",
    "from sklearn.model_selection import train_test_split\n",
    "from sklearn.linear_model import LogisticRegression\n",
    "from sklearn.metrics import accuracy_score, precision_score, recall_score, f1_score, confusion_matrix\n",
    "from sklearn.feature_selection import SequentialFeatureSelector\n",
    "\n",
    "\n",
    "column_names = ['ID','RI', 'Na', 'Mg', 'Al', 'Si', 'K', 'Ca', 'Ba', 'Fe', 'Target']\n",
    "data = pd.read_csv('G:\\VScodeProjects\\GlassType\\Data\\glass.data', names=column_names, sep=',')\n",
    "data.drop(['ID'], axis = 1, inplace = True)\n",
    "column_names.pop(0)\n",
    "print(data)\n",
    "\n",
    "#All features are Continous and Ratio, target is obviously categorical"
   ]
  },
  {
   "cell_type": "code",
   "execution_count": 35,
   "metadata": {},
   "outputs": [
    {
     "name": "stdout",
     "output_type": "stream",
     "text": [
      "[(1, 3, 0.3481578947368421), (2, 3, 0.25394736842105264), (3, 3, 0.3215789473684211), (4, 11, 0.3328947368421053), (5, 3, 0.31), (6, 11, 0.3310526315789474), (7, 3, 0.34184210526315795), (8, 3, 0.32), (9, 3, 0.31605263157894736), (10, 3, 0.2894736842105263)]\n"
     ]
    }
   ],
   "source": [
    "data_without_target = data.drop(['Target'], axis = 1)\n",
    "labels = data['Target']\n",
    "\n",
    "# Sample dataset and corresponding labels\n",
    "data_without_target = preprocessing.scale(data_without_target)\n",
    "data_without_target = pd.DataFrame(data_without_target)\n",
    "X, y = data_without_target, labels\n",
    "\n",
    "# Define a list of candidate K values to be tested\n",
    "k_values = [3, 5, 7, 9, 11, 13, 15, 17, 19, 21]\n",
    "\n",
    "# Initialize a list to store the results\n",
    "results_knn = []\n",
    "count = 0\n",
    "\n",
    "# First-level cross-validation: Split the data into training and testing sets\n",
    "kf_outer = KFold(n_splits=10, shuffle=True, random_state=42)\n",
    "\n",
    "for train_idx, test_idx in kf_outer.split(X):\n",
    "    X_train, X_test = X.loc[train_idx], X.loc[test_idx]\n",
    "    y_train, y_test = y.loc[train_idx], y.loc[test_idx]\n",
    "\n",
    "    count += 1\n",
    "    result_temp_knn = []\n",
    "\n",
    "    # Second-level cross-validation: Cross-validate the KNN model for each K\n",
    "    for k in k_values:\n",
    "        knn = KNeighborsClassifier(n_neighbors=k)\n",
    "\n",
    "        result_temp_knn1 = []\n",
    "\n",
    "        # Inner cross-validation\n",
    "        kf_inner = KFold(n_splits=10, shuffle=True, random_state=42)\n",
    "        X_train.reset_index(drop=True, inplace=True)\n",
    "        y_train.reset_index(drop=True, inplace=True)\n",
    "        for train_idx1, test_idx1 in kf_inner.split(X_train):\n",
    "            X_train1, X_test1 = X_train.loc[train_idx1], X_train.loc[test_idx1]\n",
    "            y_train1, y_test1 = y_train.loc[train_idx1], y_train.loc[test_idx1]\n",
    "\n",
    "            # make predictions KNN\n",
    "            knn.fit(X_train1, y_train1)\n",
    "            y_hat_knn = knn.predict(X_test1)\n",
    "            \n",
    "            # Calculate the error KNN\n",
    "            error_KNN = 1 - accuracy_score(y_test1, y_hat_knn)\n",
    "            result_temp_knn1.append(error_KNN)\n",
    "\n",
    "\n",
    "\n",
    "        result_temp_knn.append((k,np.mean(result_temp_knn1)))\n",
    "\n",
    "    minVal = np.Infinity\n",
    "    minK = 0\n",
    "    for tup in result_temp_knn:\n",
    "        if tup[1] < minVal:\n",
    "            minVal = tup[1]\n",
    "            minK = tup[0]\n",
    "    results_knn.append((count,minK,minVal))\n",
    "\n",
    "print(results_knn)\n"
   ]
  },
  {
   "cell_type": "code",
   "execution_count": 36,
   "metadata": {},
   "outputs": [
    {
     "name": "stdout",
     "output_type": "stream",
     "text": [
      "[(1, 1000, 0.3692105263157895), (2, 1.0, 0.36921052631578954), (3, 100, 0.3168421052631579), (4, 10, 0.3378947368421053), (5, 1000, 0.36263157894736847), (6, 1.0, 0.35578947368421054), (7, 1.0, 0.38763157894736844), (8, 10, 0.3931578947368421), (9, 10, 0.36815789473684213), (10, 10, 0.35263157894736846)]\n"
     ]
    }
   ],
   "source": [
    "data_without_target = data.drop(['Target'], axis = 1)\n",
    "labels = data['Target']\n",
    "\n",
    "# Sample dataset and corresponding labels\n",
    "data_without_target = preprocessing.scale(data_without_target)\n",
    "data_without_target = pd.DataFrame(data_without_target)\n",
    "X, y = data_without_target, labels\n",
    "\n",
    "# Define a list of candidate C values to be tested\n",
    "C_values = [0.0001, 0.001, 0.01, 0.1, 1.0, 10, 100, 1000]\n",
    "\n",
    "# Initialize a list to store the results\n",
    "results_logres = []\n",
    "count = 0\n",
    "\n",
    "# First-level cross-validation: Split the data into training and testing sets\n",
    "kf_outer = KFold(n_splits=10, shuffle=True, random_state=42)\n",
    "\n",
    "for train_idx, test_idx in kf_outer.split(X):\n",
    "    X_train, X_test = X.loc[train_idx], X.loc[test_idx]\n",
    "    y_train, y_test = y.loc[train_idx], y.loc[test_idx]\n",
    "\n",
    "    count += 1\n",
    "    result_temp_logres = []\n",
    "\n",
    "    # Second-level cross-validation: Cross-validate the KNN model for each C\n",
    "    for k in C_values:\n",
    "        logRes = LogisticRegression(multi_class='multinomial', solver='lbfgs', penalty='l2', C=k, max_iter=1000)\n",
    "\n",
    "        result_temp_logres1 = []\n",
    "\n",
    "        # Inner cross-validation\n",
    "        kf_inner = KFold(n_splits=10, shuffle=True, random_state=42)\n",
    "        X_train.reset_index(drop=True, inplace=True)\n",
    "        y_train.reset_index(drop=True, inplace=True)\n",
    "        for train_idx1, test_idx1 in kf_inner.split(X_train):\n",
    "            X_train1, X_test1 = X_train.loc[train_idx1], X_train.loc[test_idx1]\n",
    "            y_train1, y_test1 = y_train.loc[train_idx1], y_train.loc[test_idx1]\n",
    "\n",
    "            # make predictions logres\n",
    "            logRes.fit(X_train1, y_train1)\n",
    "            y_hat_logres = logRes.predict(X_test1)\n",
    "            \n",
    "            # Calculate the error logres\n",
    "            error_logres = 1 - accuracy_score(y_test1, y_hat_logres)\n",
    "            result_temp_logres1.append(error_logres)\n",
    "\n",
    "\n",
    "\n",
    "        result_temp_logres.append((k,np.mean(result_temp_logres1)))\n",
    "\n",
    "    minVal = np.Infinity\n",
    "    minK = 0\n",
    "    for tup in result_temp_logres:\n",
    "        if tup[1] < minVal:\n",
    "            minVal = tup[1]\n",
    "            minK = tup[0]\n",
    "    results_logres.append((count,minK,minVal))\n",
    "\n",
    "print(results_logres)\n",
    "\n"
   ]
  },
  {
   "cell_type": "code",
   "execution_count": 37,
   "metadata": {},
   "outputs": [
    {
     "name": "stdout",
     "output_type": "stream",
     "text": [
      "[(1, 1, 0.6463157894736842), (2, 1, 0.6410526315789473), (3, 1, 0.651578947368421), (4, 1, 0.656842105263158), (5, 1, 0.6473684210526317), (6, 1, 0.6368421052631579), (7, 1, 0.6368421052631581), (8, 1, 0.6473684210526317), (9, 1, 0.6210526315789473), (10, 1, 0.6581578947368422)]\n"
     ]
    }
   ],
   "source": [
    "data_without_target = data.drop(['Target'], axis = 1)\n",
    "labels = data['Target']\n",
    "\n",
    "# Sample dataset and corresponding labels\n",
    "data_without_target = preprocessing.scale(data_without_target)\n",
    "data_without_target = pd.DataFrame(data_without_target)\n",
    "X, y = data_without_target, labels\n",
    "\n",
    "# Define a list of candidate K values to be tested\n",
    "basline_values = [1]\n",
    "\n",
    "# Initialize a list to store the results\n",
    "results_baseline = []\n",
    "count = 0\n",
    "\n",
    "# First-level cross-validation: Split the data into training and testing sets\n",
    "kf_outer = KFold(n_splits=10, shuffle=True, random_state=42)\n",
    "\n",
    "for train_idx, test_idx in kf_outer.split(X):\n",
    "    X_train, X_test = X.loc[train_idx], X.loc[test_idx]\n",
    "    y_train, y_test = y.loc[train_idx], y.loc[test_idx]\n",
    "\n",
    "    count += 1\n",
    "    result_temp_baseline = []\n",
    "\n",
    "    # make predictions baseline\n",
    "    # Use Counter to count the occurrences of each class\n",
    "    class_counts = Counter(list(y_train))\n",
    "\n",
    "    # Find the majority class\n",
    "    majority_class, _ = class_counts.most_common(1)[0]\n",
    "\n",
    "    # Second-level cross-validation: Cross-validate the KNN model for each K\n",
    "    for k in basline_values:\n",
    "\n",
    "        result_temp_baseline1 = []\n",
    "\n",
    "        # Inner cross-validation\n",
    "        kf_inner = KFold(n_splits=10, shuffle=True, random_state=42)\n",
    "        X_train.reset_index(drop=True, inplace=True)\n",
    "        y_train.reset_index(drop=True, inplace=True)\n",
    "        for train_idx1, test_idx1 in kf_inner.split(X_train):\n",
    "            X_train1, X_test1 = X_train.loc[train_idx1], X_train.loc[test_idx1]\n",
    "            y_train1, y_test1 = y_train.loc[train_idx1], y_train.loc[test_idx1]\n",
    "\n",
    "\n",
    "            \n",
    "            \n",
    "            y_hat_baseline = np.full(\n",
    "                shape=len(y_test1),\n",
    "                fill_value=majority_class\n",
    "                )\n",
    "            \n",
    "            # Calculate the error baseline\n",
    "            error_baseline = 1 - accuracy_score(y_test1, y_hat_baseline)\n",
    "            result_temp_baseline1.append(error_baseline)\n",
    "\n",
    "\n",
    "\n",
    "        result_temp_baseline.append((k,np.mean(result_temp_baseline1)))\n",
    "\n",
    "    minVal = np.Infinity\n",
    "    minK = 0\n",
    "    for tup in result_temp_baseline:\n",
    "        if tup[1] < minVal:\n",
    "            minVal = tup[1]\n",
    "            minK = tup[0]\n",
    "    results_baseline.append((count,minK,minVal))\n",
    "\n",
    "print(results_baseline)"
   ]
  },
  {
   "cell_type": "code",
   "execution_count": 39,
   "metadata": {},
   "outputs": [],
   "source": [
    "generalization_error_knn = []\n",
    "generalization_error_logres = []\n",
    "generalization_error_baseline = []\n",
    "\n",
    "for tup in results_knn:\n",
    "    generalization_error_knn.append(tup[2])\n",
    "\n",
    "for tup in results_logres:\n",
    "    generalization_error_logres.append(tup[2])\n",
    "\n",
    "for tup in results_baseline:\n",
    "    generalization_error_baseline.append(tup[2])"
   ]
  },
  {
   "cell_type": "code",
   "execution_count": 69,
   "metadata": {},
   "outputs": [
    {
     "name": "stdout",
     "output_type": "stream",
     "text": [
      "Comparison: KNN vs. Regression\n",
      "Confidence Interval: (-0.07964126707285277, -0.00999031187451569)\n",
      "p-value: 0.017280355888798307\n",
      "\n",
      "\n",
      "Comparison: KNN vs. Baseline\n",
      "Confidence Interval: (-0.3577122794947354, -0.2979719310315805)\n",
      "p-value: 1.3383489735677584e-09\n",
      "\n",
      "\n",
      "Comparison: Regression vs. Baseline\n",
      "Confidence Interval: (-0.31152774524500243, -0.25452488633394493)\n",
      "p-value: 3.2517164738931717e-09\n",
      "\n",
      "\n"
     ]
    }
   ],
   "source": [
    "# Statistical eval\n",
    "\n",
    "def correlated_ttest(label, errors_a, errors_b, rho, alpha=0.05):\n",
    "    r = np.subtract(errors_a, errors_b)\n",
    "    rhat = np.mean(r)\n",
    "    shat = np.std(r)\n",
    "    num_of_folds = len(r)\n",
    "    sigmatilde = shat*np.sqrt(1/num_of_folds+rho/(1-rho))\n",
    "\n",
    "    CI = st.t.interval(1-alpha, df=num_of_folds-1, loc=rhat, scale=sigmatilde)\n",
    "    p = 2*st.t.cdf(-np.abs(rhat)/sigmatilde, df=num_of_folds-1)\n",
    "    \n",
    "    print(f\"Comparison: {label}\")\n",
    "    print(\"Confidence Interval:\", CI)\n",
    "    print(\"p-value:\", p)\n",
    "    print(\"\\n\")\n",
    "\n",
    "rho = 1/10 # 10 - number of outer folds\n",
    "alpha = 0.05\n",
    "\n",
    "# KNN vs Logistic regression\n",
    "correlated_ttest(\"KNN vs. Regression\", generalization_error_knn, generalization_error_logres, rho, alpha=alpha)\n",
    "\n",
    "# KNN vs Baseline\n",
    "correlated_ttest(\"KNN vs. Baseline\", generalization_error_knn, generalization_error_baseline, rho, alpha=alpha)\n",
    "\n",
    "# Logistic Regression vs Baseline\n",
    "correlated_ttest(\"Regression vs. Baseline\", generalization_error_logres, generalization_error_baseline, rho, alpha=alpha)"
   ]
  },
  {
   "cell_type": "code",
   "execution_count": 58,
   "metadata": {},
   "outputs": [
    {
     "name": "stdout",
     "output_type": "stream",
     "text": [
      "214 214\n",
      "43\n",
      "Accuracy: 0.7209\n",
      "Precision: 0.6910\n",
      "Recall: 0.7209\n",
      "F1 Score: 0.6933\n"
     ]
    },
    {
     "name": "stderr",
     "output_type": "stream",
     "text": [
      "c:\\Users\\kubus\\AppData\\Local\\Programs\\Python\\Python311\\Lib\\site-packages\\sklearn\\metrics\\_classification.py:1344: UndefinedMetricWarning: Precision is ill-defined and being set to 0.0 in labels with no predicted samples. Use `zero_division` parameter to control this behavior.\n",
      "  _warn_prf(average, modifier, msg_start, len(result))\n"
     ]
    },
    {
     "data": {
      "image/png": "[encoded data removed]",
      "text/plain": [
       "<Figure size 640x480 with 1 Axes>"
      ]
     },
     "metadata": {},
     "output_type": "display_data"
    }
   ],
   "source": [
    "data_without_target = preprocessing.scale(data_without_target)\n",
    "data_without_target = pd.DataFrame(data_without_target)\n",
    "X, y = data_without_target, labels\n",
    "\n",
    "\n",
    "# Split the data\n",
    "X_train, X_test, y_train, y_test = train_test_split(X, y, test_size=0.2, random_state=42)\n",
    "\n",
    "# Train a model\n",
    "model = LogisticRegression(multi_class='multinomial', solver='lbfgs', penalty='l2', C=10, max_iter=1000)\n",
    "model.fit(X_train, y_train)\n",
    "\n",
    "# Make predictions\n",
    "y_pred = model.predict(X_test)\n",
    "\n",
    "# Calculate metrics\n",
    "accuracy = accuracy_score(y_test, y_pred)\n",
    "precision = precision_score(y_test, y_pred, average='weighted')\n",
    "recall = recall_score(y_test, y_pred, average='weighted')\n",
    "f1 = f1_score(y_test, y_pred, average='weighted')\n",
    "conf_matrix = confusion_matrix(y_test, y_pred)\n",
    "\n",
    "print(f\"Accuracy: {accuracy:.4f}\")\n",
    "print(f\"Precision: {precision:.4f}\")\n",
    "print(f\"Recall: {recall:.4f}\")\n",
    "print(f\"F1 Score: {f1:.4f}\")\n",
    "\n",
    "conf_mat = confusion_matrix(y_test, y_pred)\n",
    "sns.heatmap(conf_mat, square=True, annot=True, cmap='Blues', fmt='d', cbar=False)\n",
    "\n",
    "\n",
    "# Get feature weights\n",
    "feature_weights = model.coef_\n",
    "\n",
    "print(pd.DataFrame(feature_weights).values.tolist())\n"
   ]
  }
 ],
 "metadata": {
  "kernelspec": {
   "display_name": "Python 3",
   "language": "python",
   "name": "python3"
  },
  "language_info": {
   "codemirror_mode": {
    "name": "ipython",
    "version": 3
   },
   "file_extension": ".py",
   "mimetype": "text/x-python",
   "name": "python",
   "nbconvert_exporter": "python",
   "pygments_lexer": "ipython3",
   "version": "3.11.4"
  },
  "orig_nbformat": 4
 },
 "nbformat": 4,
 "nbformat_minor": 2
}
